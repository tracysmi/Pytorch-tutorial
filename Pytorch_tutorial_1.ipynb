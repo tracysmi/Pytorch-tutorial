{
  "nbformat": 4,
  "nbformat_minor": 0,
  "metadata": {
    "colab": {
      "provenance": [],
      "gpuType": "T4",
      "authorship_tag": "ABX9TyNUIN07fKO6TVZf8IkIEjgN",
      "include_colab_link": true
    },
    "kernelspec": {
      "name": "python3",
      "display_name": "Python 3"
    },
    "language_info": {
      "name": "python"
    },
    "accelerator": "GPU"
  },
  "cells": [
    {
      "cell_type": "markdown",
      "metadata": {
        "id": "view-in-github",
        "colab_type": "text"
      },
      "source": [
        "<a href=\"https://colab.research.google.com/github/tracysmi/Pytorch-tutorial/blob/main/Pytorch_tutorial_1.ipynb\" target=\"_parent\"><img src=\"https://colab.research.google.com/assets/colab-badge.svg\" alt=\"Open In Colab\"/></a>"
      ]
    },
    {
      "cell_type": "markdown",
      "source": [
        "Pytorch #2: Tensors"
      ],
      "metadata": {
        "id": "_3Rb9BTPESji"
      }
    },
    {
      "cell_type": "code",
      "execution_count": null,
      "metadata": {
        "id": "WOaqDjPvN13c"
      },
      "outputs": [],
      "source": [
        "import torch\n",
        "import numpy as np\n",
        "\n",
        "# simple 2d Python List:\n",
        "mylist = [[1,2,3,],[11,12,13]]\n",
        "\n",
        "# numpy array:\n",
        "np1 = np.random.rand(3,4)\n",
        "np1.dtype   #dtype('float64')  default numpy float datatype\n",
        "\n",
        "# Pytorch tensor\n",
        "tensor_2d = torch.randn(3,4)\n",
        "# tensor_2d.dtype   # torch.float32   default tensor float datatype\n",
        "# tensor_2d\n",
        "\n",
        "# create tensor from numpy array (keeps original numpy float datatype)\n",
        "my_tensor = torch.tensor(np1)\n",
        "my_tensor\n"
      ]
    },
    {
      "cell_type": "markdown",
      "source": [
        "Pytorch #3: Tensor operations"
      ],
      "metadata": {
        "id": "I8LaC78SEeMS"
      }
    },
    {
      "cell_type": "code",
      "source": [
        "import torch\n",
        "my_torch = torch.arange(10)\n",
        "# my_torch    # tensor([0, 1, 2, 3, 4, 5, 6, 7, 8, 9])\n",
        "\n",
        "# Reshape and view; similar functions... and they update if underlying tensor is changed...\n",
        "my_torch = my_torch.reshape(2,5)\n",
        "# my_torch\n",
        "#tensor([[0, 1, 2, 3, 4],\n",
        "#       [5, 6, 7, 8, 9]])\n",
        "\n",
        "# Reshape when # of items not known:  -1\n",
        "my_torch2 = torch.arange(15)\n",
        "my_torch2 = my_torch2.reshape(3,-1)\n",
        "# my_torch2\n",
        "# tensor([[ 0,  1,  2,  3,  4],\n",
        "#        [ 5,  6,  7,  8,  9],\n",
        "#        [10, 11, 12, 13, 14]])\n"
      ],
      "metadata": {
        "id": "ajXvAf06EiGC"
      },
      "execution_count": null,
      "outputs": []
    }
  ]
}